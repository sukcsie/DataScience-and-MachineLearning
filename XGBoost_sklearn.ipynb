{
  "nbformat": 4,
  "nbformat_minor": 0,
  "metadata": {
    "colab": {
      "name": "XGBoost_sklearn.ipynb",
      "provenance": [],
      "authorship_tag": "ABX9TyMvoDKwx9k6SGTNi/1Nly4h",
      "include_colab_link": true
    },
    "kernelspec": {
      "name": "python3",
      "display_name": "Python 3"
    },
    "language_info": {
      "name": "python"
    }
  },
  "cells": [
    {
      "cell_type": "markdown",
      "metadata": {
        "id": "view-in-github",
        "colab_type": "text"
      },
      "source": [
        "<a href=\"https://colab.research.google.com/github/sukcsie/DataScience-and-MachineLearning/blob/main/XGBoost_sklearn.ipynb\" target=\"_parent\"><img src=\"https://colab.research.google.com/assets/colab-badge.svg\" alt=\"Open In Colab\"/></a>"
      ]
    },
    {
      "cell_type": "markdown",
      "metadata": {
        "id": "oC2BB0Xs_2Ct"
      },
      "source": [
        "**Regression**\n",
        "\n",
        "`Dataset:` scikit-learn *diabetes* dataset. The dataset measures the progression of diabetes after 1 year. The values are continuous so we need a regressor to make a machine learning prediction.\n",
        "\n",
        "`Model:` XGBoost regressor"
      ]
    },
    {
      "cell_type": "code",
      "metadata": {
        "id": "KeTrhRoz_t2L"
      },
      "source": [
        "# import scikit-learn datasets\n",
        "from sklearn import datasets"
      ],
      "execution_count": 1,
      "outputs": []
    },
    {
      "cell_type": "code",
      "metadata": {
        "id": "fHYdGgqMbvtz"
      },
      "source": [
        "# load diabetes dataset with X, y defined\n",
        "X,y = datasets.load_diabetes(return_X_y=True)"
      ],
      "execution_count": 2,
      "outputs": []
    },
    {
      "cell_type": "code",
      "metadata": {
        "id": "t-FZXqlcbzSJ"
      },
      "source": [
        "# import XGBoost regressor\n",
        "from xgboost import XGBRegressor"
      ],
      "execution_count": 3,
      "outputs": []
    },
    {
      "cell_type": "code",
      "metadata": {
        "id": "Kb5F5wydb19A"
      },
      "source": [
        "# import cross_val_score for cross-validation\n",
        "from sklearn.model_selection import cross_val_score"
      ],
      "execution_count": 4,
      "outputs": []
    },
    {
      "cell_type": "code",
      "metadata": {
        "id": "PW2xNmMfb6Rj"
      },
      "source": [
        "# score XGBRegressor (ojbective='reg:squarederror' may silence a warning)\n",
        "scores = cross_val_score(XGBRegressor(objective='reg:squarederror'), X, y, scoring='neg_mean_squared_error')"
      ],
      "execution_count": 5,
      "outputs": []
    },
    {
      "cell_type": "code",
      "metadata": {
        "colab": {
          "base_uri": "https://localhost:8080/"
        },
        "id": "z3Ly-8Zdb9X0",
        "outputId": "8b33d2f6-25da-4505-8c31-7f8e7aa72b27"
      },
      "source": [
        "# get root mean squared error\n",
        "(-scores)**0.5"
      ],
      "execution_count": 6,
      "outputs": [
        {
          "output_type": "execute_result",
          "data": {
            "text/plain": [
              "array([56.04057166, 56.14039793, 60.3213523 , 59.67532995, 60.7722925 ])"
            ]
          },
          "metadata": {
            "tags": []
          },
          "execution_count": 6
        }
      ]
    },
    {
      "cell_type": "markdown",
      "metadata": {
        "id": "bIGQm7ICa5At"
      },
      "source": [
        "**Classification**\n",
        "\n",
        "`Dataset:` The heart disease dataset may be used to predict the last column, whether someone has a heart disease or not. Since the target values are binary, we need a classifier to make a machine learning prediction."
      ]
    },
    {
      "cell_type": "code",
      "metadata": {
        "id": "CecVNJ2kcMxG"
      },
      "source": [
        "# access heart disease dataset\n",
        "url = 'https://media.githubusercontent.com/media/PacktPublishing/Hands-On-Gradient-Boosting-with-XGBoost-and-Scikit-learn/master/Chapter02/heart_disease.csv'\n"
      ],
      "execution_count": 7,
      "outputs": []
    },
    {
      "cell_type": "code",
      "metadata": {
        "id": "5ZtvqI7kceea"
      },
      "source": [
        "# import pandas\n",
        "import pandas as pd"
      ],
      "execution_count": 8,
      "outputs": []
    },
    {
      "cell_type": "code",
      "metadata": {
        "id": "NlMqm-6ZciXy"
      },
      "source": [
        "# read csv file as dataframe df\n",
        "df = pd.read_csv(url)"
      ],
      "execution_count": 9,
      "outputs": []
    },
    {
      "cell_type": "code",
      "metadata": {
        "id": "XQzZUCZlcl3K"
      },
      "source": [
        "# choose all columns except the last for X\n",
        "X = df.iloc[:, :-1]"
      ],
      "execution_count": 10,
      "outputs": []
    },
    {
      "cell_type": "code",
      "metadata": {
        "id": "JpzWjlOYcoyo"
      },
      "source": [
        "# choose the last column for y\n",
        "y = df.iloc[:, -1]"
      ],
      "execution_count": 11,
      "outputs": []
    },
    {
      "cell_type": "code",
      "metadata": {
        "id": "pKwuNbUjcrc-"
      },
      "source": [
        "# import XGBoost classifier\n",
        "from xgboost import XGBClassifier"
      ],
      "execution_count": 12,
      "outputs": []
    },
    {
      "cell_type": "code",
      "metadata": {
        "id": "dHRuga9KcuRS"
      },
      "source": [
        "# import cross_val_score for cross-validation\n",
        "from sklearn.model_selection import cross_val_score"
      ],
      "execution_count": 13,
      "outputs": []
    },
    {
      "cell_type": "code",
      "metadata": {
        "colab": {
          "base_uri": "https://localhost:8080/"
        },
        "id": "qt-f-az4cxOs",
        "outputId": "fe7bcf73-6e60-438b-f847-a5744044118f"
      },
      "source": [
        "# score XGBClassifier\n",
        "cross_val_score(XGBClassifier(), X, y)"
      ],
      "execution_count": 14,
      "outputs": [
        {
          "output_type": "execute_result",
          "data": {
            "text/plain": [
              "array([0.85245902, 0.85245902, 0.7704918 , 0.78333333, 0.76666667])"
            ]
          },
          "metadata": {
            "tags": []
          },
          "execution_count": 14
        }
      ]
    }
  ]
}